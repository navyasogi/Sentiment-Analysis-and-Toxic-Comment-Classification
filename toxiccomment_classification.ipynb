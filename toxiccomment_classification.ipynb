{
 "cells": [
  {
   "cell_type": "code",
   "execution_count": 1,
   "metadata": {},
   "outputs": [],
   "source": [
    "import re\n",
    "from sklearn.feature_extraction.text import CountVectorizer\n",
    "from sklearn.linear_model import LogisticRegression\n",
    "from sklearn.metrics import accuracy_score\n",
    "from sklearn.model_selection import train_test_split"
   ]
  },
  {
   "cell_type": "code",
   "execution_count": 2,
   "metadata": {},
   "outputs": [],
   "source": [
    "#defining regular expression for preprocessing\n",
    "REPLACE_NO_SPACE = re.compile(\"(\\.)|(\\;)|(\\:)|(\\!)|(\\')|(\\?)|(\\,)|(\\\")|(\\()|(\\))|(\\[)|(\\])\")\n",
    "REPLACE_WITH_SPACE = re.compile(\"(<br\\s*/><br\\s*/>)|(\\-)|(\\/)\")\n"
   ]
  },
  {
   "cell_type": "code",
   "execution_count": 3,
   "metadata": {},
   "outputs": [],
   "source": [
    "#function to load the train and test data sets\n",
    "def load():\n",
    "\treviews_train = []\n",
    "\tfor line in open('/Users/navyasogi/Desktop/ML_Coursework/ProjectSubmission_2_Group10/movie_data/full_train.txt', 'r', encoding = \"utf8\"):\n",
    "\t\treviews_train.append(line.strip())\n",
    "\n",
    "\treviews_test = []\n",
    "\tfor line in open('/Users/navyasogi/Desktop/ML_Coursework/ProjectSubmission_2_Group10/movie_data/full_test.txt', 'r', encoding = \"utf8\"):\n",
    "\t    reviews_test.append(line.strip())\n",
    "\n",
    "\treturn(reviews_train,reviews_test)"
   ]
  },
  {
   "cell_type": "code",
   "execution_count": 4,
   "metadata": {},
   "outputs": [],
   "source": [
    "#function to clean up the cluttered review set\n",
    "def preprocess_reviews(reviews):\n",
    "\treviews = [REPLACE_NO_SPACE.sub(\"\", line.lower()) for line in reviews]\n",
    "\treviews = [REPLACE_WITH_SPACE.sub(\" \", line) for line in reviews]\n",
    "\treturn reviews"
   ]
  },
  {
   "cell_type": "code",
   "execution_count": 5,
   "metadata": {},
   "outputs": [],
   "source": [
    "#function to test human generated review for cross validation\n",
    "def test_new_review(final_model,cv):\n",
    "\tpred = final_model.predict(cv.transform([input(\"Check Your Own Review :\")]))[0]\n",
    "\tif(pred == 0):\n",
    "\t\tprint(\"Negative Review!\")\n",
    "\telse:\n",
    "\t\tprint(\"Positive Review!\")\n",
    "\n",
    "\twhile True:\n",
    "\t\ta = input(\"Enter yes/no to continue :\")\n",
    "\t\tif a==\"yes\":\n",
    "\t\t\ttest_new_review(final_model,cv)\n",
    "\t\t\tcontinue\n",
    "\t\telif a==\"no\":\n",
    "\t\t\texit()"
   ]
  },
  {
   "cell_type": "code",
   "execution_count": 6,
   "metadata": {},
   "outputs": [],
   "source": [
    "#function to give example of some posetive and negative tokens\n",
    "def token_example(feature_to_coef):\n",
    "\tprint(\"Example of some positive words and their weightage:\")\n",
    "\tfor best_positive in sorted(\n",
    "\t    feature_to_coef.items(), \n",
    "\t    key=lambda x: x[1], \n",
    "\t    reverse=True)[:5]:\n",
    "\t    print (best_positive)\n",
    "    \n",
    "\tprint(\"Example of some negative words and their weightage\")\n",
    "\tfor best_negative in sorted(\n",
    "\t    feature_to_coef.items(), \n",
    "\t    key=lambda x: x[1])[:5]:\n",
    "\t    print (best_negative)\n",
    "\n",
    "def Regularisation_parameter(X_train, y_train, y_val, X_val):\n",
    "\tz = 0\n",
    "\tfor c in [0.01, 0.05, 0.25, 0.5, 1]:\n",
    "\t    lr = LogisticRegression(C=c)\n",
    "\t    lr.fit(X_train, y_train)\n",
    "\t    print (\"Accuracy for C=%s: %s\" \n",
    "\t           % (c, accuracy_score(y_val, lr.predict(X_val))))\n",
    "\t    if(z < accuracy_score(y_val, lr.predict(X_val))):\n",
    "\t    \tz = accuracy_score(y_val, lr.predict(X_val))\n",
    "\t\n",
    "\treturn z\n"
   ]
  },
  {
   "cell_type": "code",
   "execution_count": null,
   "metadata": {},
   "outputs": [
    {
     "name": "stderr",
     "output_type": "stream",
     "text": [
      "/Users/navyasogi/opt/anaconda3/lib/python3.7/site-packages/sklearn/linear_model/logistic.py:432: FutureWarning: Default solver will be changed to 'lbfgs' in 0.22. Specify a solver to silence this warning.\n",
      "  FutureWarning)\n"
     ]
    },
    {
     "name": "stdout",
     "output_type": "stream",
     "text": [
      "Accuracy for C=0.01: 0.87936\n",
      "Accuracy for C=0.05: 0.8896\n",
      "Accuracy for C=0.25: 0.87952\n",
      "Accuracy for C=0.5: 0.876\n",
      "Accuracy for C=1: 0.87552\n"
     ]
    }
   ],
   "source": [
    "def main():\n",
    "\t#loading the train and test data sets\n",
    "\treviews_train,reviews_test = load()\n",
    "\n",
    "\t#preprocessing the given data\n",
    "\treviews_train_clean = preprocess_reviews(reviews_train)\n",
    "\treviews_test_clean = preprocess_reviews(reviews_test)\n",
    "\n",
    "\n",
    "\t#vectorization of the reviews\n",
    "\tcv = CountVectorizer(binary=True)\n",
    "\tcv.fit(reviews_train_clean) \n",
    "\tX = cv.transform(reviews_train_clean) # will give a sparse matrix find a way to make this efficient\n",
    "\tX_test = cv.transform(reviews_test_clean)\n",
    "\ttarget = [1 if i < 12500 else 0 for i in range(25000)]\n",
    "\n",
    "\n",
    "\t#splitting the train and test data\n",
    "\tX_train, X_val, y_train, y_val = train_test_split(X, target, train_size = 0.75)\n",
    "\n",
    "\t#choosing the regularisaton parameter (logistic regression) for the greatest accuracy value\n",
    "\tbest_c_value = Regularisation_parameter(X_train, y_train, y_val, X_val)\n",
    "\n",
    "\t#training the final logistic model for the best accuracy\n",
    "\tfinal_model = LogisticRegression(C=best_c_value)\n",
    "\tfinal_model.fit(X, target)\n",
    "\tprint (\"Final Accuracy: %s\" \n",
    "\t       % accuracy_score(target, final_model.predict(X_test)))\n",
    "\n",
    "\tfeature_to_coef = {\n",
    "    word: coef for word, coef in zip(\n",
    "        cv.get_feature_names(), final_model.coef_[0]\n",
    "    )\n",
    "\t}\n",
    "\n",
    "    #example of pos and neg sentiment\n",
    "\ttoken_example(feature_to_coef) \n",
    "\t\n",
    "\twhile(True):\n",
    "\t\ttest_new_review(final_model,cv) #checking the model with human data\n",
    "\n",
    "if __name__ == '__main__':\n",
    "\tmain()\n"
   ]
  },
  {
   "cell_type": "code",
   "execution_count": null,
   "metadata": {},
   "outputs": [],
   "source": []
  }
 ],
 "metadata": {
  "kernelspec": {
   "display_name": "Python 3",
   "language": "python",
   "name": "python3"
  },
  "language_info": {
   "codemirror_mode": {
    "name": "ipython",
    "version": 3
   },
   "file_extension": ".py",
   "mimetype": "text/x-python",
   "name": "python",
   "nbconvert_exporter": "python",
   "pygments_lexer": "ipython3",
   "version": "3.7.4"
  }
 },
 "nbformat": 4,
 "nbformat_minor": 2
}
